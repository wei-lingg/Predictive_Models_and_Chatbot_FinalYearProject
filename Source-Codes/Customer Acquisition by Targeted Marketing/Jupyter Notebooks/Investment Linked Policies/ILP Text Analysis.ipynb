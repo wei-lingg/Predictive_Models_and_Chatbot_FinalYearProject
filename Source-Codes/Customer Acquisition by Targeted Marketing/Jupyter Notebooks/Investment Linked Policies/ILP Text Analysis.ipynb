{
 "cells": [
  {
   "cell_type": "code",
   "execution_count": 1,
   "metadata": {},
   "outputs": [],
   "source": [
    "import pandas as pd\n",
    "import numpy as np\n",
    "import matplotlib.pyplot as plt"
   ]
  },
  {
   "cell_type": "code",
   "execution_count": 2,
   "metadata": {},
   "outputs": [
    {
     "data": {
      "text/html": [
       "<div>\n",
       "<style scoped>\n",
       "    .dataframe tbody tr th:only-of-type {\n",
       "        vertical-align: middle;\n",
       "    }\n",
       "\n",
       "    .dataframe tbody tr th {\n",
       "        vertical-align: top;\n",
       "    }\n",
       "\n",
       "    .dataframe thead th {\n",
       "        text-align: right;\n",
       "    }\n",
       "</style>\n",
       "<table border=\"1\" class=\"dataframe\">\n",
       "  <thead>\n",
       "    <tr style=\"text-align: right;\">\n",
       "      <th></th>\n",
       "      <th>Age</th>\n",
       "      <th>Student?</th>\n",
       "      <th>Annual_Income</th>\n",
       "      <th>Purchased_before?</th>\n",
       "      <th>Reason_for_Purchasing</th>\n",
       "      <th>Channels_Used</th>\n",
       "      <th>Rank_Channel_Used1</th>\n",
       "      <th>Rank_Channel_Used2</th>\n",
       "      <th>Rank_Channel_Used3</th>\n",
       "      <th>Improvements</th>\n",
       "      <th>...</th>\n",
       "      <th>Complexity of the plans_RNP</th>\n",
       "      <th>Unnecessary_RNP</th>\n",
       "      <th>Not enough money_RNP</th>\n",
       "      <th>Lack of information_RNP</th>\n",
       "      <th>Others_RNP</th>\n",
       "      <th>Lack of information_RNInt</th>\n",
       "      <th>Unnecessary_RNInt</th>\n",
       "      <th>Financial difficulties_RNInt</th>\n",
       "      <th>Not willing to take the risk_RNInt</th>\n",
       "      <th>Others_RNInt</th>\n",
       "    </tr>\n",
       "  </thead>\n",
       "  <tbody>\n",
       "    <tr>\n",
       "      <th>0</th>\n",
       "      <td>22 to 36 years old</td>\n",
       "      <td>yes</td>\n",
       "      <td>no income</td>\n",
       "      <td>no</td>\n",
       "      <td>NaN</td>\n",
       "      <td>NaN</td>\n",
       "      <td>NaN</td>\n",
       "      <td>NaN</td>\n",
       "      <td>NaN</td>\n",
       "      <td>NaN</td>\n",
       "      <td>...</td>\n",
       "      <td>0.0</td>\n",
       "      <td>0.0</td>\n",
       "      <td>0.0</td>\n",
       "      <td>0.0</td>\n",
       "      <td>NaN</td>\n",
       "      <td>0.0</td>\n",
       "      <td>0.0</td>\n",
       "      <td>0.0</td>\n",
       "      <td>0.0</td>\n",
       "      <td>NaN</td>\n",
       "    </tr>\n",
       "    <tr>\n",
       "      <th>1</th>\n",
       "      <td>22 to 36 years old</td>\n",
       "      <td>yes</td>\n",
       "      <td>no income</td>\n",
       "      <td>no</td>\n",
       "      <td>NaN</td>\n",
       "      <td>NaN</td>\n",
       "      <td>NaN</td>\n",
       "      <td>NaN</td>\n",
       "      <td>NaN</td>\n",
       "      <td>NaN</td>\n",
       "      <td>...</td>\n",
       "      <td>0.0</td>\n",
       "      <td>0.0</td>\n",
       "      <td>0.0</td>\n",
       "      <td>0.0</td>\n",
       "      <td>NaN</td>\n",
       "      <td>0.0</td>\n",
       "      <td>0.0</td>\n",
       "      <td>0.0</td>\n",
       "      <td>0.0</td>\n",
       "      <td>NaN</td>\n",
       "    </tr>\n",
       "    <tr>\n",
       "      <th>2</th>\n",
       "      <td>22 to 36 years old</td>\n",
       "      <td>no</td>\n",
       "      <td>$25,000 and below</td>\n",
       "      <td>yes</td>\n",
       "      <td>higher potential returns;free switching of fun...</td>\n",
       "      <td>youtube</td>\n",
       "      <td>seedly</td>\n",
       "      <td>reddit</td>\n",
       "      <td>yahoo fice</td>\n",
       "      <td>p</td>\n",
       "      <td>...</td>\n",
       "      <td>0.0</td>\n",
       "      <td>0.0</td>\n",
       "      <td>0.0</td>\n",
       "      <td>0.0</td>\n",
       "      <td>NaN</td>\n",
       "      <td>0.0</td>\n",
       "      <td>0.0</td>\n",
       "      <td>0.0</td>\n",
       "      <td>0.0</td>\n",
       "      <td>NaN</td>\n",
       "    </tr>\n",
       "    <tr>\n",
       "      <th>3</th>\n",
       "      <td>22 to 36 years old</td>\n",
       "      <td>yes</td>\n",
       "      <td>no income</td>\n",
       "      <td>no</td>\n",
       "      <td>NaN</td>\n",
       "      <td>NaN</td>\n",
       "      <td>NaN</td>\n",
       "      <td>NaN</td>\n",
       "      <td>NaN</td>\n",
       "      <td>NaN</td>\n",
       "      <td>...</td>\n",
       "      <td>0.0</td>\n",
       "      <td>0.0</td>\n",
       "      <td>0.0</td>\n",
       "      <td>0.0</td>\n",
       "      <td>i prefer to do investment myself to gain exper...</td>\n",
       "      <td>0.0</td>\n",
       "      <td>0.0</td>\n",
       "      <td>0.0</td>\n",
       "      <td>0.0</td>\n",
       "      <td>NaN</td>\n",
       "    </tr>\n",
       "    <tr>\n",
       "      <th>4</th>\n",
       "      <td>22 to 36 years old</td>\n",
       "      <td>yes</td>\n",
       "      <td>no income</td>\n",
       "      <td>no</td>\n",
       "      <td>NaN</td>\n",
       "      <td>NaN</td>\n",
       "      <td>NaN</td>\n",
       "      <td>NaN</td>\n",
       "      <td>NaN</td>\n",
       "      <td>NaN</td>\n",
       "      <td>...</td>\n",
       "      <td>0.0</td>\n",
       "      <td>0.0</td>\n",
       "      <td>0.0</td>\n",
       "      <td>0.0</td>\n",
       "      <td>NaN</td>\n",
       "      <td>0.0</td>\n",
       "      <td>0.0</td>\n",
       "      <td>0.0</td>\n",
       "      <td>0.0</td>\n",
       "      <td>NaN</td>\n",
       "    </tr>\n",
       "  </tbody>\n",
       "</table>\n",
       "<p>5 rows × 42 columns</p>\n",
       "</div>"
      ],
      "text/plain": [
       "                  Age Student?      Annual_Income Purchased_before?  \\\n",
       "0  22 to 36 years old      yes          no income                no   \n",
       "1  22 to 36 years old      yes          no income                no   \n",
       "2  22 to 36 years old       no  $25,000 and below               yes   \n",
       "3  22 to 36 years old      yes          no income                no   \n",
       "4  22 to 36 years old      yes          no income                no   \n",
       "\n",
       "                               Reason_for_Purchasing Channels_Used  \\\n",
       "0                                                NaN           NaN   \n",
       "1                                                NaN           NaN   \n",
       "2  higher potential returns;free switching of fun...       youtube   \n",
       "3                                                NaN           NaN   \n",
       "4                                                NaN           NaN   \n",
       "\n",
       "  Rank_Channel_Used1 Rank_Channel_Used2 Rank_Channel_Used3 Improvements  ...  \\\n",
       "0                NaN                NaN                NaN          NaN  ...   \n",
       "1                NaN                NaN                NaN          NaN  ...   \n",
       "2             seedly             reddit         yahoo fice            p  ...   \n",
       "3                NaN                NaN                NaN          NaN  ...   \n",
       "4                NaN                NaN                NaN          NaN  ...   \n",
       "\n",
       "  Complexity of the plans_RNP Unnecessary_RNP Not enough money_RNP  \\\n",
       "0                         0.0             0.0                  0.0   \n",
       "1                         0.0             0.0                  0.0   \n",
       "2                         0.0             0.0                  0.0   \n",
       "3                         0.0             0.0                  0.0   \n",
       "4                         0.0             0.0                  0.0   \n",
       "\n",
       "  Lack of information_RNP                                         Others_RNP  \\\n",
       "0                     0.0                                                NaN   \n",
       "1                     0.0                                                NaN   \n",
       "2                     0.0                                                NaN   \n",
       "3                     0.0  i prefer to do investment myself to gain exper...   \n",
       "4                     0.0                                                NaN   \n",
       "\n",
       "  Lack of information_RNInt Unnecessary_RNInt Financial difficulties_RNInt  \\\n",
       "0                       0.0               0.0                          0.0   \n",
       "1                       0.0               0.0                          0.0   \n",
       "2                       0.0               0.0                          0.0   \n",
       "3                       0.0               0.0                          0.0   \n",
       "4                       0.0               0.0                          0.0   \n",
       "\n",
       "  Not willing to take the risk_RNInt Others_RNInt  \n",
       "0                                0.0          NaN  \n",
       "1                                0.0          NaN  \n",
       "2                                0.0          NaN  \n",
       "3                                0.0          NaN  \n",
       "4                                0.0          NaN  \n",
       "\n",
       "[5 rows x 42 columns]"
      ]
     },
     "execution_count": 2,
     "metadata": {},
     "output_type": "execute_result"
    }
   ],
   "source": [
    "df = pd.read_csv(\"ILP_All_Cleaned.csv\")\n",
    "df.head(5)"
   ]
  },
  {
   "cell_type": "code",
   "execution_count": 3,
   "metadata": {},
   "outputs": [
    {
     "name": "stdout",
     "output_type": "stream",
     "text": [
      "<class 'pandas.core.frame.DataFrame'>\n",
      "RangeIndex: 144 entries, 0 to 143\n",
      "Data columns (total 42 columns):\n",
      " #   Column                                          Non-Null Count  Dtype  \n",
      "---  ------                                          --------------  -----  \n",
      " 0   Age                                             144 non-null    object \n",
      " 1   Student?                                        144 non-null    object \n",
      " 2   Annual_Income                                   144 non-null    object \n",
      " 3   Purchased_before?                               144 non-null    object \n",
      " 4   Reason_for_Purchasing                           9 non-null      object \n",
      " 5   Channels_Used                                   9 non-null      object \n",
      " 6   Rank_Channel_Used1                              9 non-null      object \n",
      " 7   Rank_Channel_Used2                              9 non-null      object \n",
      " 8   Rank_Channel_Used3                              9 non-null      object \n",
      " 9   Improvements                                    5 non-null      object \n",
      " 10  Reason_for_Not_Purchasing                       135 non-null    object \n",
      " 11  Interest in ILP?                                144 non-null    object \n",
      " 12  Reason_No_Interest                              82 non-null     object \n",
      " 13  Lack_Info_Channel                               82 non-null     object \n",
      " 14  Rank_Channel_Lack_Wish1                         82 non-null     object \n",
      " 15  Rank_Channel_Lack_Wish2                         82 non-null     object \n",
      " 16  Rank_Channel_Lack_Wish3                         82 non-null     object \n",
      " 17  Channels_Wish                                   62 non-null     object \n",
      " 18  Rank_Channel_Wish1                              62 non-null     object \n",
      " 19  Rank_Channel_Wish2                              62 non-null     object \n",
      " 20  Rank_Channel_Wish3                              62 non-null     object \n",
      " 21  ILP_Opinions                                    59 non-null     object \n",
      " 22  Pru_ILP                                         144 non-null    object \n",
      " 23  Higher potential returns_RP                     144 non-null    float64\n",
      " 24  Liquidity with partial withdrawals_RP           144 non-null    float64\n",
      " 25  Flexibility in insurance coverage_RP            144 non-null    float64\n",
      " 26  Free switching of funds_RP                      144 non-null    float64\n",
      " 27  Premium holidays_RP                             144 non-null    float64\n",
      " 28  Others_RP                                       2 non-null      object \n",
      " 29  No guaranteed returns_RNP                       144 non-null    float64\n",
      " 30  Hefty fees_RNP                                  144 non-null    float64\n",
      " 31  Possibility of reducing insurance coverage_RNP  144 non-null    float64\n",
      " 32  Complexity of the plans_RNP                     144 non-null    float64\n",
      " 33  Unnecessary_RNP                                 144 non-null    float64\n",
      " 34  Not enough money_RNP                            144 non-null    float64\n",
      " 35  Lack of information_RNP                         144 non-null    float64\n",
      " 36  Others_RNP                                      19 non-null     object \n",
      " 37  Lack of information_RNInt                       144 non-null    float64\n",
      " 38  Unnecessary_RNInt                               144 non-null    float64\n",
      " 39  Financial difficulties_RNInt                    144 non-null    float64\n",
      " 40  Not willing to take the risk_RNInt              144 non-null    float64\n",
      " 41  Others_RNInt                                    17 non-null     object \n",
      "dtypes: float64(16), object(26)\n",
      "memory usage: 47.4+ KB\n"
     ]
    }
   ],
   "source": [
    "df.info()"
   ]
  },
  {
   "cell_type": "code",
   "execution_count": 4,
   "metadata": {},
   "outputs": [],
   "source": [
    "# Extract only the required columns & drop empty rows\n",
    "improvements_df = df[[\"Improvements\"]]\n",
    "improvements_df = improvements_df.dropna()\n",
    "\n",
    "opinions_df = df[[\"ILP_Opinions\"]]\n",
    "opinions_df = opinions_df.dropna()\n",
    "# opinions_df = opinions_df.drop(opinions_df[opinions_df[\"ILP_Opinions\"].astype(str).str.match(\"^\\s+$\")].index)"
   ]
  },
  {
   "cell_type": "markdown",
   "metadata": {},
   "source": [
    "## Lemmatization"
   ]
  },
  {
   "cell_type": "code",
   "execution_count": 5,
   "metadata": {},
   "outputs": [
    {
     "name": "stderr",
     "output_type": "stream",
     "text": [
      "C:\\Users\\65932\\Anaconda3\\lib\\site-packages\\sklearn\\feature_extraction\\image.py:167: DeprecationWarning: `np.int` is a deprecated alias for the builtin `int`. To silence this warning, use `int` by itself. Doing this will not modify any behavior and is safe. When replacing `np.int`, you may wish to use e.g. `np.int64` or `np.int32` to specify the precision. If you wish to review your current use, check the release note link for additional information.\n",
      "Deprecated in NumPy 1.20; for more details and guidance: https://numpy.org/devdocs/release/1.20.0-notes.html#deprecations\n",
      "  dtype=np.int):\n",
      "C:\\Users\\65932\\Anaconda3\\lib\\site-packages\\sklearn\\linear_model\\least_angle.py:30: DeprecationWarning: `np.float` is a deprecated alias for the builtin `float`. To silence this warning, use `float` by itself. Doing this will not modify any behavior and is safe. If you specifically wanted the numpy scalar type, use `np.float64` here.\n",
      "Deprecated in NumPy 1.20; for more details and guidance: https://numpy.org/devdocs/release/1.20.0-notes.html#deprecations\n",
      "  method='lar', copy_X=True, eps=np.finfo(np.float).eps,\n",
      "C:\\Users\\65932\\Anaconda3\\lib\\site-packages\\sklearn\\linear_model\\least_angle.py:167: DeprecationWarning: `np.float` is a deprecated alias for the builtin `float`. To silence this warning, use `float` by itself. Doing this will not modify any behavior and is safe. If you specifically wanted the numpy scalar type, use `np.float64` here.\n",
      "Deprecated in NumPy 1.20; for more details and guidance: https://numpy.org/devdocs/release/1.20.0-notes.html#deprecations\n",
      "  method='lar', copy_X=True, eps=np.finfo(np.float).eps,\n",
      "C:\\Users\\65932\\Anaconda3\\lib\\site-packages\\sklearn\\linear_model\\least_angle.py:284: DeprecationWarning: `np.float` is a deprecated alias for the builtin `float`. To silence this warning, use `float` by itself. Doing this will not modify any behavior and is safe. If you specifically wanted the numpy scalar type, use `np.float64` here.\n",
      "Deprecated in NumPy 1.20; for more details and guidance: https://numpy.org/devdocs/release/1.20.0-notes.html#deprecations\n",
      "  eps=np.finfo(np.float).eps, copy_Gram=True, verbose=0,\n",
      "C:\\Users\\65932\\Anaconda3\\lib\\site-packages\\sklearn\\linear_model\\least_angle.py:862: DeprecationWarning: `np.float` is a deprecated alias for the builtin `float`. To silence this warning, use `float` by itself. Doing this will not modify any behavior and is safe. If you specifically wanted the numpy scalar type, use `np.float64` here.\n",
      "Deprecated in NumPy 1.20; for more details and guidance: https://numpy.org/devdocs/release/1.20.0-notes.html#deprecations\n",
      "  eps=np.finfo(np.float).eps, copy_X=True, fit_path=True,\n",
      "C:\\Users\\65932\\Anaconda3\\lib\\site-packages\\sklearn\\linear_model\\least_angle.py:1101: DeprecationWarning: `np.float` is a deprecated alias for the builtin `float`. To silence this warning, use `float` by itself. Doing this will not modify any behavior and is safe. If you specifically wanted the numpy scalar type, use `np.float64` here.\n",
      "Deprecated in NumPy 1.20; for more details and guidance: https://numpy.org/devdocs/release/1.20.0-notes.html#deprecations\n",
      "  eps=np.finfo(np.float).eps, copy_X=True, fit_path=True,\n",
      "C:\\Users\\65932\\Anaconda3\\lib\\site-packages\\sklearn\\linear_model\\least_angle.py:1127: DeprecationWarning: `np.float` is a deprecated alias for the builtin `float`. To silence this warning, use `float` by itself. Doing this will not modify any behavior and is safe. If you specifically wanted the numpy scalar type, use `np.float64` here.\n",
      "Deprecated in NumPy 1.20; for more details and guidance: https://numpy.org/devdocs/release/1.20.0-notes.html#deprecations\n",
      "  eps=np.finfo(np.float).eps, positive=False):\n",
      "C:\\Users\\65932\\Anaconda3\\lib\\site-packages\\sklearn\\linear_model\\least_angle.py:1362: DeprecationWarning: `np.float` is a deprecated alias for the builtin `float`. To silence this warning, use `float` by itself. Doing this will not modify any behavior and is safe. If you specifically wanted the numpy scalar type, use `np.float64` here.\n",
      "Deprecated in NumPy 1.20; for more details and guidance: https://numpy.org/devdocs/release/1.20.0-notes.html#deprecations\n",
      "  max_n_alphas=1000, n_jobs=None, eps=np.finfo(np.float).eps,\n",
      "C:\\Users\\65932\\Anaconda3\\lib\\site-packages\\sklearn\\linear_model\\least_angle.py:1602: DeprecationWarning: `np.float` is a deprecated alias for the builtin `float`. To silence this warning, use `float` by itself. Doing this will not modify any behavior and is safe. If you specifically wanted the numpy scalar type, use `np.float64` here.\n",
      "Deprecated in NumPy 1.20; for more details and guidance: https://numpy.org/devdocs/release/1.20.0-notes.html#deprecations\n",
      "  max_n_alphas=1000, n_jobs=None, eps=np.finfo(np.float).eps,\n",
      "C:\\Users\\65932\\Anaconda3\\lib\\site-packages\\sklearn\\linear_model\\least_angle.py:1738: DeprecationWarning: `np.float` is a deprecated alias for the builtin `float`. To silence this warning, use `float` by itself. Doing this will not modify any behavior and is safe. If you specifically wanted the numpy scalar type, use `np.float64` here.\n",
      "Deprecated in NumPy 1.20; for more details and guidance: https://numpy.org/devdocs/release/1.20.0-notes.html#deprecations\n",
      "  eps=np.finfo(np.float).eps, copy_X=True, positive=False):\n"
     ]
    }
   ],
   "source": [
    "#lemmanisation\n",
    "#using spacy\n",
    "import spacy\n",
    "import en_core_web_sm\n",
    "nlp = en_core_web_sm.load()\n",
    "from nltk.stem import WordNetLemmatizer\n",
    "\n",
    "def lemmatizer(text):        \n",
    "    sent = []\n",
    "    doc = nlp(text)\n",
    "    for word in doc:\n",
    "        sent.append(word.lemma_)\n",
    "    return \" \".join(sent)\n",
    "\n",
    "improvements_df['lemmatised_content'] = improvements_df['Improvements'].apply(lambda x: lemmatizer(x))\n",
    "opinions_df['lemmatised_content'] = opinions_df[\"ILP_Opinions\"].apply(lambda x: lemmatizer(x))\n",
    "\n",
    "improvements_df['lemmatised_content']=improvements_df['lemmatised_content'].str.replace('-PRON-', '')\n",
    "opinions_df['lemmatised_content']=opinions_df['lemmatised_content'].str.replace('-PRON-', '')"
   ]
  },
  {
   "cell_type": "markdown",
   "metadata": {},
   "source": [
    "## Tokenization"
   ]
  },
  {
   "cell_type": "code",
   "execution_count": 6,
   "metadata": {},
   "outputs": [],
   "source": [
    "from nltk.tokenize import RegexpTokenizer\n",
    "tokenizer = RegexpTokenizer(r'\\w+')\n",
    "#tokenize the words \n",
    "improvements_df['tokenized_content'] = improvements_df['lemmatised_content'].apply(lambda x: tokenizer.tokenize(x))\n",
    "opinions_df['tokenized_content'] = opinions_df['lemmatised_content'].apply(lambda x: tokenizer.tokenize(x))"
   ]
  },
  {
   "cell_type": "markdown",
   "metadata": {},
   "source": [
    "## Stop words removal"
   ]
  },
  {
   "cell_type": "code",
   "execution_count": 7,
   "metadata": {},
   "outputs": [],
   "source": [
    "from nltk.corpus import words\n",
    "from nltk.corpus import stopwords\n",
    "\n",
    "#remove stop words\n",
    "def remove_stopwords(text):\n",
    "    words = [w for w in text if w not in stopwords.words('english')]\n",
    "#     custom_words_rm = ['insurance', 'policy', 'plan', 'year']\n",
    "#     final_words = [w for w in words if w not in custom_words_rm]\n",
    "    return words\n",
    "\n",
    "words = words.words()\n",
    "\n",
    "#remove words with length less than 3 & urls\n",
    "def remove_shortwords(text):\n",
    "    words = [w for w in text if len(w)>=3]\n",
    "    return words\n",
    "\n",
    "improvements_df['remove_stopwords_content'] = improvements_df['tokenized_content'].apply(lambda x: remove_stopwords(x))\n",
    "opinions_df['remove_stopwords_content'] = opinions_df['tokenized_content'].apply(lambda x: remove_stopwords(x))\n",
    "\n",
    "improvements_df['remove_shortwords_content'] = improvements_df['remove_stopwords_content'].apply(lambda x: remove_shortwords(x))\n",
    "opinions_df['remove_shortwords_content'] = opinions_df['remove_stopwords_content'].apply(lambda x: remove_shortwords(x))"
   ]
  },
  {
   "cell_type": "markdown",
   "metadata": {},
   "source": [
    "## POS Tagging"
   ]
  },
  {
   "cell_type": "code",
   "execution_count": 8,
   "metadata": {},
   "outputs": [],
   "source": [
    "import nltk\n",
    "from nltk.tokenize import word_tokenize\n",
    "\n",
    "def POS_tagging(str_list):\n",
    "    removeitem = ['i','im',\"nil\",'la','cant','eg','get','make','cos','whereby','']\n",
    "    tokens = nltk.pos_tag(str_list)\n",
    "    JJ_tokens = [i[0] for i in tokens if i[1] in ['JJ','JJS','JJR'] and i[0] not in removeitem]\n",
    "    noun_tokens = [i[0] for i in tokens if i[1] in ['NN','NNS','NNP','NNPS'] and i[0] not in removeitem]\n",
    "    return (JJ_tokens + noun_tokens)\n",
    "\n",
    "improvements_df['pos_tag_content']=improvements_df['remove_shortwords_content'].apply(lambda x: POS_tagging(x))\n",
    "opinions_df['pos_tag_content']=opinions_df['remove_shortwords_content'].apply(lambda x: POS_tagging(x))"
   ]
  },
  {
   "cell_type": "markdown",
   "metadata": {},
   "source": [
    "## Processed Final Content"
   ]
  },
  {
   "cell_type": "code",
   "execution_count": 9,
   "metadata": {},
   "outputs": [],
   "source": [
    "def join(text):\n",
    "    sentence = \" \".join(text)\n",
    "    return sentence\n",
    "improvements_df['final_content'] = improvements_df['pos_tag_content'].apply(lambda x: join(x))\n",
    "opinions_df['final_content'] = opinions_df['pos_tag_content'].apply(lambda x: join(x))"
   ]
  },
  {
   "cell_type": "code",
   "execution_count": 10,
   "metadata": {},
   "outputs": [
    {
     "data": {
      "text/html": [
       "<div>\n",
       "<style scoped>\n",
       "    .dataframe tbody tr th:only-of-type {\n",
       "        vertical-align: middle;\n",
       "    }\n",
       "\n",
       "    .dataframe tbody tr th {\n",
       "        vertical-align: top;\n",
       "    }\n",
       "\n",
       "    .dataframe thead th {\n",
       "        text-align: right;\n",
       "    }\n",
       "</style>\n",
       "<table border=\"1\" class=\"dataframe\">\n",
       "  <thead>\n",
       "    <tr style=\"text-align: right;\">\n",
       "      <th></th>\n",
       "      <th>Improvements</th>\n",
       "      <th>lemmatised_content</th>\n",
       "      <th>tokenized_content</th>\n",
       "      <th>remove_stopwords_content</th>\n",
       "      <th>remove_shortwords_content</th>\n",
       "      <th>pos_tag_content</th>\n",
       "      <th>final_content</th>\n",
       "    </tr>\n",
       "  </thead>\n",
       "  <tbody>\n",
       "    <tr>\n",
       "      <th>2</th>\n",
       "      <td>p</td>\n",
       "      <td>p</td>\n",
       "      <td>[p]</td>\n",
       "      <td>[p]</td>\n",
       "      <td>[]</td>\n",
       "      <td>[]</td>\n",
       "      <td></td>\n",
       "    </tr>\n",
       "    <tr>\n",
       "      <th>18</th>\n",
       "      <td>the benefits and how should buy one</td>\n",
       "      <td>the benefit and how should buy one</td>\n",
       "      <td>[the, benefit, and, how, should, buy, one]</td>\n",
       "      <td>[benefit, buy, one]</td>\n",
       "      <td>[benefit, buy, one]</td>\n",
       "      <td>[benefit]</td>\n",
       "      <td>benefit</td>\n",
       "    </tr>\n",
       "    <tr>\n",
       "      <th>29</th>\n",
       "      <td>none needed</td>\n",
       "      <td>none need</td>\n",
       "      <td>[none, need]</td>\n",
       "      <td>[none, need]</td>\n",
       "      <td>[none, need]</td>\n",
       "      <td>[none, need]</td>\n",
       "      <td>none need</td>\n",
       "    </tr>\n",
       "    <tr>\n",
       "      <th>103</th>\n",
       "      <td>lower premiums</td>\n",
       "      <td>low premium</td>\n",
       "      <td>[low, premium]</td>\n",
       "      <td>[low, premium]</td>\n",
       "      <td>[low, premium]</td>\n",
       "      <td>[low, premium]</td>\n",
       "      <td>low premium</td>\n",
       "    </tr>\n",
       "    <tr>\n",
       "      <th>109</th>\n",
       "      <td>a little expensive</td>\n",
       "      <td>a little expensive</td>\n",
       "      <td>[a, little, expensive]</td>\n",
       "      <td>[little, expensive]</td>\n",
       "      <td>[little, expensive]</td>\n",
       "      <td>[little, expensive]</td>\n",
       "      <td>little expensive</td>\n",
       "    </tr>\n",
       "  </tbody>\n",
       "</table>\n",
       "</div>"
      ],
      "text/plain": [
       "                            Improvements                  lemmatised_content  \\\n",
       "2                                      p                                   p   \n",
       "18   the benefits and how should buy one  the benefit and how should buy one   \n",
       "29                           none needed                           none need   \n",
       "103                       lower premiums                         low premium   \n",
       "109                  a little expensive                   a little expensive   \n",
       "\n",
       "                              tokenized_content remove_stopwords_content  \\\n",
       "2                                           [p]                      [p]   \n",
       "18   [the, benefit, and, how, should, buy, one]      [benefit, buy, one]   \n",
       "29                                 [none, need]             [none, need]   \n",
       "103                              [low, premium]           [low, premium]   \n",
       "109                      [a, little, expensive]      [little, expensive]   \n",
       "\n",
       "    remove_shortwords_content      pos_tag_content     final_content  \n",
       "2                          []                   []                    \n",
       "18        [benefit, buy, one]            [benefit]           benefit  \n",
       "29               [none, need]         [none, need]         none need  \n",
       "103            [low, premium]       [low, premium]       low premium  \n",
       "109       [little, expensive]  [little, expensive]  little expensive  "
      ]
     },
     "execution_count": 10,
     "metadata": {},
     "output_type": "execute_result"
    }
   ],
   "source": [
    "improvements_df.head()"
   ]
  },
  {
   "cell_type": "code",
   "execution_count": 11,
   "metadata": {},
   "outputs": [
    {
     "data": {
      "text/html": [
       "<div>\n",
       "<style scoped>\n",
       "    .dataframe tbody tr th:only-of-type {\n",
       "        vertical-align: middle;\n",
       "    }\n",
       "\n",
       "    .dataframe tbody tr th {\n",
       "        vertical-align: top;\n",
       "    }\n",
       "\n",
       "    .dataframe thead th {\n",
       "        text-align: right;\n",
       "    }\n",
       "</style>\n",
       "<table border=\"1\" class=\"dataframe\">\n",
       "  <thead>\n",
       "    <tr style=\"text-align: right;\">\n",
       "      <th></th>\n",
       "      <th>ILP_Opinions</th>\n",
       "      <th>lemmatised_content</th>\n",
       "      <th>tokenized_content</th>\n",
       "      <th>remove_stopwords_content</th>\n",
       "      <th>remove_shortwords_content</th>\n",
       "      <th>pos_tag_content</th>\n",
       "      <th>final_content</th>\n",
       "    </tr>\n",
       "  </thead>\n",
       "  <tbody>\n",
       "    <tr>\n",
       "      <th>1</th>\n",
       "      <td>risky</td>\n",
       "      <td>risky</td>\n",
       "      <td>[risky]</td>\n",
       "      <td>[risky]</td>\n",
       "      <td>[risky]</td>\n",
       "      <td>[risky]</td>\n",
       "      <td>risky</td>\n",
       "    </tr>\n",
       "    <tr>\n",
       "      <th>4</th>\n",
       "      <td>would like to know more</td>\n",
       "      <td>would like to know more</td>\n",
       "      <td>[would, like, to, know, more]</td>\n",
       "      <td>[would, like, know]</td>\n",
       "      <td>[would, like, know]</td>\n",
       "      <td>[]</td>\n",
       "      <td></td>\n",
       "    </tr>\n",
       "    <tr>\n",
       "      <th>8</th>\n",
       "      <td>i dont know</td>\n",
       "      <td>i do not know</td>\n",
       "      <td>[i, do, not, know]</td>\n",
       "      <td>[know]</td>\n",
       "      <td>[know]</td>\n",
       "      <td>[]</td>\n",
       "      <td></td>\n",
       "    </tr>\n",
       "    <tr>\n",
       "      <th>11</th>\n",
       "      <td>just another insurance scheme</td>\n",
       "      <td>just another insurance scheme</td>\n",
       "      <td>[just, another, insurance, scheme]</td>\n",
       "      <td>[another, insurance, scheme]</td>\n",
       "      <td>[another, insurance, scheme]</td>\n",
       "      <td>[insurance, scheme]</td>\n",
       "      <td>insurance scheme</td>\n",
       "    </tr>\n",
       "    <tr>\n",
       "      <th>12</th>\n",
       "      <td>no idea</td>\n",
       "      <td>no idea</td>\n",
       "      <td>[no, idea]</td>\n",
       "      <td>[idea]</td>\n",
       "      <td>[idea]</td>\n",
       "      <td>[idea]</td>\n",
       "      <td>idea</td>\n",
       "    </tr>\n",
       "  </tbody>\n",
       "</table>\n",
       "</div>"
      ],
      "text/plain": [
       "                     ILP_Opinions             lemmatised_content  \\\n",
       "1                           risky                          risky   \n",
       "4         would like to know more        would like to know more   \n",
       "8                    i dont know                   i do not know   \n",
       "11  just another insurance scheme  just another insurance scheme   \n",
       "12                        no idea                        no idea   \n",
       "\n",
       "                     tokenized_content      remove_stopwords_content  \\\n",
       "1                              [risky]                       [risky]   \n",
       "4        [would, like, to, know, more]           [would, like, know]   \n",
       "8                   [i, do, not, know]                        [know]   \n",
       "11  [just, another, insurance, scheme]  [another, insurance, scheme]   \n",
       "12                          [no, idea]                        [idea]   \n",
       "\n",
       "       remove_shortwords_content      pos_tag_content     final_content  \n",
       "1                        [risky]              [risky]             risky  \n",
       "4            [would, like, know]                   []                    \n",
       "8                         [know]                   []                    \n",
       "11  [another, insurance, scheme]  [insurance, scheme]  insurance scheme  \n",
       "12                        [idea]               [idea]              idea  "
      ]
     },
     "execution_count": 11,
     "metadata": {},
     "output_type": "execute_result"
    }
   ],
   "source": [
    "opinions_df.head()"
   ]
  },
  {
   "cell_type": "markdown",
   "metadata": {},
   "source": [
    "# Wordcloud"
   ]
  },
  {
   "cell_type": "markdown",
   "metadata": {},
   "source": [
    "## Improvements wordcloud"
   ]
  },
  {
   "cell_type": "code",
   "execution_count": 12,
   "metadata": {},
   "outputs": [
    {
     "data": {
      "image/png": "[encoded data removed]",
      "text/plain": [
       "<PIL.Image.Image image mode=RGB size=400x200 at 0x18BF3896EB8>"
      ]
     },
     "execution_count": 12,
     "metadata": {},
     "output_type": "execute_result"
    }
   ],
   "source": [
    "#!pip install wordcloud\n",
    "# Import the wordcloud library\n",
    "from wordcloud import WordCloud\n",
    "\n",
    "# Join the different processed titles together.\n",
    "long_string = ','.join(list(improvements_df['final_content'].values))\n",
    "\n",
    "# Create a WordCloud object\n",
    "wordcloud = WordCloud(background_color=\"white\", max_words=1000, contour_width=3, contour_color='steelblue')\n",
    "\n",
    "# Generate a word cloud\n",
    "wordcloud.generate(long_string)\n",
    "\n",
    "# Visualize the word cloud\n",
    "wordcloud.to_image()"
   ]
  },
  {
   "cell_type": "markdown",
   "metadata": {},
   "source": [
    "## Opinions wordcloud"
   ]
  },
  {
   "cell_type": "code",
   "execution_count": 13,
   "metadata": {},
   "outputs": [
    {
     "data": {
      "image/png": "[encoded data removed]",
      "text/plain": [
       "<PIL.Image.Image image mode=RGB size=400x200 at 0x18BF3905CF8>"
      ]
     },
     "execution_count": 13,
     "metadata": {},
     "output_type": "execute_result"
    }
   ],
   "source": [
    "# Join the different processed titles together.\n",
    "long_string = ','.join(list(opinions_df['final_content'].values))\n",
    "\n",
    "# Create a WordCloud object\n",
    "wordcloud = WordCloud(background_color=\"white\", max_words=1000, contour_width=3, contour_color='steelblue')\n",
    "\n",
    "# Generate a word cloud\n",
    "wordcloud.generate(long_string)\n",
    "\n",
    "# Visualize the word cloud\n",
    "wordcloud.to_image()"
   ]
  },
  {
   "cell_type": "markdown",
   "metadata": {},
   "source": [
    "## Count Vectorizer"
   ]
  },
  {
   "cell_type": "code",
   "execution_count": 14,
   "metadata": {},
   "outputs": [
    {
     "name": "stderr",
     "output_type": "stream",
     "text": [
      "C:\\Users\\65932\\Anaconda3\\lib\\site-packages\\statsmodels\\tools\\_testing.py:19: FutureWarning: pandas.util.testing is deprecated. Use the functions in the public API at pandas.testing instead.\n",
      "  import pandas.util.testing as tm\n"
     ]
    }
   ],
   "source": [
    "# Load the library with the CountVectorizer method\n",
    "from sklearn.feature_extraction.text import CountVectorizer\n",
    "import numpy as np\n",
    "\n",
    "import matplotlib.pyplot as plt\n",
    "import seaborn as sns\n",
    "sns.set_style('whitegrid')\n",
    "%matplotlib inline\n",
    "\n",
    "# Helper function\n",
    "def plot_20_most_common_words(count_data, count_vectorizer):\n",
    "    import matplotlib.pyplot as plt\n",
    "    words = count_vectorizer.get_feature_names()\n",
    "    total_counts = np.zeros(len(words))\n",
    "    for t in count_data:\n",
    "        total_counts+=t.toarray()[0]\n",
    "    \n",
    "    count_dict = (zip(words, total_counts))\n",
    "    count_dict = sorted(count_dict, key=lambda x:x[1], reverse=True)[0:20]\n",
    "    words = [w[0] for w in count_dict]\n",
    "    counts = [w[1] for w in count_dict]\n",
    "    x_pos = np.arange(len(words)) \n",
    "    \n",
    "    plt.figure(2, figsize=(15, 15/1.6180))\n",
    "    plt.subplot(title='20 most common words')\n",
    "    sns.set_context(\"notebook\", font_scale=1.25, rc={\"lines.linewidth\": 2.5})\n",
    "    sns.barplot( counts, x_pos,palette='husl',orient = \"h\")\n",
    "    plt.yticks(x_pos, words) \n",
    "    plt.ylabel('words')\n",
    "    plt.xlabel('counts')\n",
    "    plt.show()\n",
    "\n"
   ]
  },
  {
   "cell_type": "code",
   "execution_count": 15,
   "metadata": {},
   "outputs": [
    {
     "data": {
      "image/png": "[encoded data removed]",
      "text/plain": [
       "<Figure size 1080x667.491 with 1 Axes>"
      ]
     },
     "metadata": {
      "needs_background": "light"
     },
     "output_type": "display_data"
    }
   ],
   "source": [
    "# Initialise the count vectorizer with the English stop words\n",
    "improvements_count_vectorizer = CountVectorizer(min_df =1,max_df=3000,stop_words='english')\n",
    "\n",
    "# Fit and transform the processed titles\n",
    "improvements_count_data = improvements_count_vectorizer.fit_transform(improvements_df['final_content'])\n",
    "\n",
    "# Visualise the 20 most common words\n",
    "plot_20_most_common_words(improvements_count_data, improvements_count_vectorizer)"
   ]
  },
  {
   "cell_type": "code",
   "execution_count": 16,
   "metadata": {},
   "outputs": [
    {
     "data": {
      "image/png": "[encoded data removed]",
      "text/plain": [
       "<Figure size 1080x667.491 with 1 Axes>"
      ]
     },
     "metadata": {
      "needs_background": "light"
     },
     "output_type": "display_data"
    }
   ],
   "source": [
    "# Initialise the count vectorizer with the English stop words\n",
    "opinions_count_vectorizer = CountVectorizer(min_df =1,max_df=3000,stop_words='english')\n",
    "\n",
    "# Fit and transform the processed titles\n",
    "opinions_count_data = opinions_count_vectorizer.fit_transform(opinions_df['final_content'])\n",
    "\n",
    "# Visualise the 20 most common words\n",
    "plot_20_most_common_words(opinions_count_data, opinions_count_vectorizer)"
   ]
  },
  {
   "cell_type": "markdown",
   "metadata": {},
   "source": [
    "## LDA Model"
   ]
  },
  {
   "cell_type": "code",
   "execution_count": 17,
   "metadata": {},
   "outputs": [
    {
     "name": "stderr",
     "output_type": "stream",
     "text": [
      "C:\\Users\\65932\\Anaconda3\\lib\\site-packages\\sklearn\\decomposition\\online_lda.py:29: DeprecationWarning: `np.float` is a deprecated alias for the builtin `float`. To silence this warning, use `float` by itself. Doing this will not modify any behavior and is safe. If you specifically wanted the numpy scalar type, use `np.float64` here.\n",
      "Deprecated in NumPy 1.20; for more details and guidance: https://numpy.org/devdocs/release/1.20.0-notes.html#deprecations\n",
      "  EPS = np.finfo(np.float).eps\n"
     ]
    }
   ],
   "source": [
    "# import warnings\n",
    "# warnings.simplefilter(\"ignore\", DeprecationWarning)\n",
    "\n",
    "# Load the LDA model from sk-learn\n",
    "from sklearn.decomposition import LatentDirichletAllocation as LDA\n",
    " \n",
    "# Helper function\n",
    "def print_topics(model, count_vectorizer, n_top_words):\n",
    "    words = count_vectorizer.get_feature_names()\n",
    "    for topic_idx, topic in enumerate(model.components_):\n",
    "        print(\"\\nTopic #%d:\" % topic_idx)\n",
    "        print(\" \".join([words[i]\n",
    "                        for i in topic.argsort()[:-n_top_words - 1:-1]]))\n",
    "        \n",
    "# Tweak the two parameters below (use int values below 15)\n",
    "number_topics = 5\n",
    "number_words = 10\n",
    "\n"
   ]
  },
  {
   "cell_type": "markdown",
   "metadata": {},
   "source": [
    "### Improvements LDA model"
   ]
  },
  {
   "cell_type": "code",
   "execution_count": 18,
   "metadata": {},
   "outputs": [
    {
     "name": "stdout",
     "output_type": "stream",
     "text": [
      "Topics found via LDA:\n",
      "\n",
      "Topic #0:\n",
      "benefit need little expensive premium low\n",
      "\n",
      "Topic #1:\n",
      "benefit need little expensive premium low\n",
      "\n",
      "Topic #2:\n",
      "premium low benefit need little expensive\n",
      "\n",
      "Topic #3:\n",
      "little expensive benefit need premium low\n",
      "\n",
      "Topic #4:\n",
      "need benefit little expensive premium low\n"
     ]
    }
   ],
   "source": [
    "# Create and fit the LDA model\n",
    "improvements_lda = LDA(n_components=number_topics)\n",
    "improvements_lda.fit(improvements_count_data)\n",
    "\n",
    "# Print the topics found by the LDA model\n",
    "print(\"Topics found via LDA:\")\n",
    "print_topics(improvements_lda, improvements_count_vectorizer, number_words)"
   ]
  },
  {
   "cell_type": "markdown",
   "metadata": {},
   "source": [
    "### Opinions LDA model"
   ]
  },
  {
   "cell_type": "code",
   "execution_count": 19,
   "metadata": {},
   "outputs": [
    {
     "name": "stdout",
     "output_type": "stream",
     "text": [
      "Topics found via LDA:\n",
      "\n",
      "Topic #0:\n",
      "people term long party good difficult guarantee understand return agent\n",
      "\n",
      "Topic #1:\n",
      "risky good term investment sure money restrict fund cancel condition\n",
      "\n",
      "Topic #2:\n",
      "charge fee compare lose student affordable famous extra need buy\n",
      "\n",
      "Topic #3:\n",
      "plan return investment great functionable convinced sound feasible possible retirement\n",
      "\n",
      "Topic #4:\n",
      "low expensive idea understand return time invest ilp help bad\n"
     ]
    }
   ],
   "source": [
    "# Create and fit the LDA model\n",
    "opinions_lda = LDA(n_components=number_topics)\n",
    "opinions_lda.fit(opinions_count_data)\n",
    "\n",
    "# Print the topics found by the LDA model\n",
    "print(\"Topics found via LDA:\")\n",
    "print_topics(opinions_lda, opinions_count_vectorizer, number_words)"
   ]
  },
  {
   "cell_type": "code",
   "execution_count": 20,
   "metadata": {},
   "outputs": [],
   "source": [
    "improvements_df.to_csv('ILP_Improvements_Dashboard.csv', index= False)\n",
    "opinions_df.to_csv('ILP_Opinions_Dashboard.csv', index= False)"
   ]
  },
  {
   "cell_type": "code",
   "execution_count": null,
   "metadata": {},
   "outputs": [],
   "source": []
  }
 ],
 "metadata": {
  "kernelspec": {
   "display_name": "Python 3",
   "language": "python",
   "name": "python3"
  },
  "language_info": {
   "codemirror_mode": {
    "name": "ipython",
    "version": 3
   },
   "file_extension": ".py",
   "mimetype": "text/x-python",
   "name": "python",
   "nbconvert_exporter": "python",
   "pygments_lexer": "ipython3",
   "version": "3.7.3"
  }
 },
 "nbformat": 4,
 "nbformat_minor": 2
}
